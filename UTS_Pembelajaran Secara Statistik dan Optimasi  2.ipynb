{
 "cells": [
  {
   "cell_type": "markdown",
   "metadata": {},
   "source": [
    "# Machine Learning — Predicting Subscription for Bank "
   ]
  },
  {
   "cell_type": "raw",
   "metadata": {},
   "source": [
    "by fardhina amalia (2101192059), Muhammad Zulfikri Hasan (2101201044), M. Topati Sultan (1101175292)"
   ]
  },
  {
   "cell_type": "markdown",
   "metadata": {},
   "source": [
    "# Data Preparation: Importing data and Inspection"
   ]
  },
  {
   "cell_type": "code",
   "execution_count": 1,
   "metadata": {},
   "outputs": [
    {
     "name": "stdout",
     "output_type": "stream",
     "text": [
      "Menampilkan list kolom dari dataset:\n",
      "['age', 'job', 'marital', 'education', 'default', 'housing', 'loan', 'communication_type ', 'last_contact_month', 'last_contact_day_of_week', 'last_contact_duration', 'campaign', 'pdays', 'previous', 'poutcome', 'emp_var_rate', 'cons_price_idx', 'cons_conf_idx', 'euribor3m', 'nr_employed', 'subscribe']\n",
      "\n",
      "Menampilkan 10 data teratas:\n",
      "   age         job   marital          education  default housing loan  \\\n",
      "0   44     teacher   married           basic.4y  unknown     yes   no   \n",
      "1   53  technician   married            unknown       no      no   no   \n",
      "2   28  management    single  university.degree       no     yes   no   \n",
      "3   39    services   married        high.school       no      no   no   \n",
      "4   55     retired   married           basic.4y       no     yes   no   \n",
      "5   30  management  divorced           basic.4y       no     yes   no   \n",
      "6   37     teacher   married           basic.4y       no     yes   no   \n",
      "7   39     teacher  divorced           basic.9y       no     yes   no   \n",
      "8   36      admin.   married  university.degree       no      no   no   \n",
      "9   27     teacher    single           basic.4y       no     yes   no   \n",
      "\n",
      "  communication_type  last_contact_month last_contact_day_of_week  ...  \\\n",
      "0            cellular                aug                      thu  ...   \n",
      "1            cellular                nov                      fri  ...   \n",
      "2            cellular                jun                      thu  ...   \n",
      "3            cellular                apr                      fri  ...   \n",
      "4            cellular                aug                      fri  ...   \n",
      "5            cellular                jul                      tue  ...   \n",
      "6            cellular                may                      thu  ...   \n",
      "7            cellular                may                      fri  ...   \n",
      "8            cellular                jun                      mon  ...   \n",
      "9            cellular                apr                      thu  ...   \n",
      "\n",
      "   campaign  pdays  previous  poutcome  emp_var_rate  cons_price_idx  \\\n",
      "0         1    999         0         1           1.4          93.444   \n",
      "1         1    999         0         1          -0.1          93.200   \n",
      "2         3      6         2         2          -1.7          94.055   \n",
      "3         2    999         0         1          -1.8          93.075   \n",
      "4         1      3         1         2          -2.9          92.201   \n",
      "5         8    999         0         1           1.4          93.918   \n",
      "6         1    999         0         1          -1.8          92.893   \n",
      "7         1    999         0         1          -1.8          92.893   \n",
      "8         1      3         1         2          -2.9          92.963   \n",
      "9         2    999         1         0          -1.8          93.075   \n",
      "\n",
      "   cons_conf_idx  euribor3m  nr_employed  subscribe  \n",
      "0          -36.1      4.963       5228.1          0  \n",
      "1          -42.0      4.021       5195.8          0  \n",
      "2          -39.8      0.729       4991.6          1  \n",
      "3          -47.1      1.405       5099.1          0  \n",
      "4          -31.4      0.869       5076.2          1  \n",
      "5          -42.7      4.961       5228.1          0  \n",
      "6          -46.2      1.327       5099.1          0  \n",
      "7          -46.2      1.313       5099.1          0  \n",
      "8          -40.8      1.266       5076.2          1  \n",
      "9          -47.1      1.410       5099.1          0  \n",
      "\n",
      "[10 rows x 21 columns]\n",
      "\n",
      "Menampilkan 10 data terbawah:\n",
      "       age            job  marital            education  default  housing  \\\n",
      "33706   27        student   single              unknown  unknown      yes   \n",
      "33707   54         admin.  married    university.degree       no      yes   \n",
      "33708   48     technician  married  professional.course       no      yes   \n",
      "33709   39         admin.  married          high.school       no      yes   \n",
      "33710   53  self-employed  married             basic.4y       no       no   \n",
      "33711   31         admin.   single    university.degree       no       no   \n",
      "33712   53     management  married          high.school       no       no   \n",
      "33713   55         admin.  married          high.school  unknown      yes   \n",
      "33714   30     technician   single  professional.course  unknown      yes   \n",
      "33715   27        teacher   single              unknown       no  unknown   \n",
      "\n",
      "          loan communication_type  last_contact_month  \\\n",
      "33706       no            cellular                apr   \n",
      "33707      yes            cellular                nov   \n",
      "33708      yes            cellular                apr   \n",
      "33709      yes           telephone                may   \n",
      "33710       no           telephone                may   \n",
      "33711       no           telephone                may   \n",
      "33712       no            cellular                nov   \n",
      "33713       no            cellular                may   \n",
      "33714      yes            cellular                aug   \n",
      "33715  unknown            cellular                jul   \n",
      "\n",
      "      last_contact_day_of_week  ...  campaign  pdays  previous  poutcome  \\\n",
      "33706                      thu  ...         1    999         0         1   \n",
      "33707                      tue  ...         2    999         0         1   \n",
      "33708                      thu  ...         1    999         1         0   \n",
      "33709                      fri  ...         2    999         0         1   \n",
      "33710                      tue  ...         1    999         0         1   \n",
      "33711                      wed  ...         8    999         0         1   \n",
      "33712                      thu  ...         1    999         0         1   \n",
      "33713                      fri  ...         3    999         0         1   \n",
      "33714                      mon  ...         2    999         0         1   \n",
      "33715                      tue  ...         4    999         0         1   \n",
      "\n",
      "       emp_var_rate  cons_price_idx  cons_conf_idx  euribor3m  nr_employed  \\\n",
      "33706          -1.8          93.075          -47.1      1.365       5099.1   \n",
      "33707          -0.1          93.200          -42.0      4.153       5195.8   \n",
      "33708          -1.8          93.075          -47.1      1.365       5099.1   \n",
      "33709           1.1          93.994          -36.4      4.857       5191.0   \n",
      "33710           1.1          93.994          -36.4      4.856       5191.0   \n",
      "33711           1.1          93.994          -36.4      4.857       5191.0   \n",
      "33712          -0.1          93.200          -42.0      4.076       5195.8   \n",
      "33713          -1.8          92.893          -46.2      1.250       5099.1   \n",
      "33714           1.4          93.444          -36.1      4.963       5228.1   \n",
      "33715           1.4          93.918          -42.7      4.961       5228.1   \n",
      "\n",
      "       subscribe  \n",
      "33706          0  \n",
      "33707          0  \n",
      "33708          1  \n",
      "33709          0  \n",
      "33710          0  \n",
      "33711          0  \n",
      "33712          0  \n",
      "33713          0  \n",
      "33714          0  \n",
      "33715          0  \n",
      "\n",
      "[10 rows x 21 columns]\n",
      "\n",
      "Menampilkan Info dataset:\n",
      "<class 'pandas.core.frame.DataFrame'>\n",
      "RangeIndex: 33716 entries, 0 to 33715\n",
      "Data columns (total 21 columns):\n",
      " #   Column                    Non-Null Count  Dtype  \n",
      "---  ------                    --------------  -----  \n",
      " 0   age                       33716 non-null  int64  \n",
      " 1   job                       33716 non-null  object \n",
      " 2   marital                   33716 non-null  object \n",
      " 3   education                 33716 non-null  object \n",
      " 4   default                   33716 non-null  object \n",
      " 5   housing                   33716 non-null  object \n",
      " 6   loan                      33716 non-null  object \n",
      " 7   communication_type        33716 non-null  object \n",
      " 8   last_contact_month        33716 non-null  object \n",
      " 9   last_contact_day_of_week  33716 non-null  object \n",
      " 10  last_contact_duration     33716 non-null  int64  \n",
      " 11  campaign                  33716 non-null  int64  \n",
      " 12  pdays                     33716 non-null  int64  \n",
      " 13  previous                  33716 non-null  int64  \n",
      " 14  poutcome                  33716 non-null  int64  \n",
      " 15  emp_var_rate              33716 non-null  float64\n",
      " 16  cons_price_idx            33716 non-null  float64\n",
      " 17  cons_conf_idx             33716 non-null  float64\n",
      " 18  euribor3m                 33716 non-null  float64\n",
      " 19  nr_employed               33716 non-null  float64\n",
      " 20  subscribe                 33716 non-null  int64  \n",
      "dtypes: float64(5), int64(7), object(9)\n",
      "memory usage: 5.4+ MB\n",
      "None\n",
      "\n",
      "Menampilkan Shape dataset:\n",
      "(33716, 21)\n",
      "\n",
      "Menampilkan Statistik dekstriptif dataset:\n",
      "                age  last_contact_duration      campaign         pdays  \\\n",
      "count  33716.000000           33716.000000  33716.000000  33716.000000   \n",
      "mean      40.044786             258.853363      2.565696    962.449638   \n",
      "std       10.406860             260.370649      2.768145    186.977850   \n",
      "min       17.000000               0.000000      1.000000      0.000000   \n",
      "25%       32.000000             102.000000      1.000000    999.000000   \n",
      "50%       38.000000             179.000000      2.000000    999.000000   \n",
      "75%       47.000000             320.000000      3.000000    999.000000   \n",
      "max       98.000000            4918.000000     56.000000    999.000000   \n",
      "\n",
      "           previous      poutcome  emp_var_rate  cons_price_idx  \\\n",
      "count  33716.000000  33716.000000  33716.000000    33716.000000   \n",
      "mean       0.173271      0.930389      0.086241       93.578505   \n",
      "std        0.496757      0.362388      1.569110        0.578074   \n",
      "min        0.000000      0.000000     -3.400000       92.201000   \n",
      "25%        0.000000      1.000000     -1.800000       93.075000   \n",
      "50%        0.000000      1.000000      1.100000       93.749000   \n",
      "75%        0.000000      1.000000      1.400000       93.994000   \n",
      "max        7.000000      2.000000      1.400000       94.767000   \n",
      "\n",
      "       cons_conf_idx     euribor3m   nr_employed     subscribe  \n",
      "count   33716.000000  33716.000000  33716.000000  33716.000000  \n",
      "mean      -40.496215      3.624634   5167.063676      0.113626  \n",
      "std         4.622004      1.733760     72.361171      0.317361  \n",
      "min       -50.800000      0.634000   4963.600000      0.000000  \n",
      "25%       -42.700000      1.344000   5099.100000      0.000000  \n",
      "50%       -41.800000      4.857000   5191.000000      0.000000  \n",
      "75%       -36.400000      4.961000   5228.100000      0.000000  \n",
      "max       -26.900000      5.045000   5228.100000      1.000000  \n"
     ]
    }
   ],
   "source": [
    "import pandas as pd\n",
    "import matplotlib.pyplot as plt\n",
    "\n",
    "#membaca file csv\n",
    "dataset= pd.read_csv('Bank.csv')\n",
    "\n",
    "#menampilkan list kolom dari dataset\n",
    "print('Menampilkan list kolom dari dataset:')\n",
    "print(list(dataset.columns))\n",
    "\n",
    "#menampilkan 10 konten teratas dari dataset\n",
    "print('\\nMenampilkan 10 data teratas:')\n",
    "print(dataset.head(10))\n",
    "\n",
    "#menampilkan 10 konten terbawah dari dataset\n",
    "print('\\nMenampilkan 10 data terbawah:')\n",
    "print(dataset.tail(10))\n",
    "\n",
    "print('\\nMenampilkan Info dataset:')\n",
    "print(dataset.info())\n",
    "\n",
    "#melihat struktur kolom dan baris dari dataset\n",
    "print('\\nMenampilkan Shape dataset:')\n",
    "print(dataset.shape)\n",
    "\n",
    "#melihat statistik desriptif dari dataset\n",
    "print('\\nMenampilkan Statistik dekstriptif dataset:')\n",
    "print(dataset.describe())"
   ]
  },
  {
   "cell_type": "code",
   "execution_count": 2,
   "metadata": {},
   "outputs": [],
   "source": [
    "#menghapus kolom yang tidak digunakan\n",
    "del dataset['default']\n",
    "del dataset['communication_type ']\n",
    "del dataset['last_contact_month']\n",
    "del dataset['last_contact_day_of_week']\n",
    "del dataset['last_contact_duration']\n",
    "del dataset['campaign']\n",
    "del dataset['pdays']\n",
    "del dataset['previous']"
   ]
  },
  {
   "cell_type": "code",
   "execution_count": 3,
   "metadata": {},
   "outputs": [
    {
     "data": {
      "text/html": [
       "<div>\n",
       "<style scoped>\n",
       "    .dataframe tbody tr th:only-of-type {\n",
       "        vertical-align: middle;\n",
       "    }\n",
       "\n",
       "    .dataframe tbody tr th {\n",
       "        vertical-align: top;\n",
       "    }\n",
       "\n",
       "    .dataframe thead th {\n",
       "        text-align: right;\n",
       "    }\n",
       "</style>\n",
       "<table border=\"1\" class=\"dataframe\">\n",
       "  <thead>\n",
       "    <tr style=\"text-align: right;\">\n",
       "      <th></th>\n",
       "      <th>age</th>\n",
       "      <th>job</th>\n",
       "      <th>marital</th>\n",
       "      <th>education</th>\n",
       "      <th>housing</th>\n",
       "      <th>loan</th>\n",
       "      <th>poutcome</th>\n",
       "      <th>emp_var_rate</th>\n",
       "      <th>cons_price_idx</th>\n",
       "      <th>cons_conf_idx</th>\n",
       "      <th>euribor3m</th>\n",
       "      <th>nr_employed</th>\n",
       "      <th>subscribe</th>\n",
       "    </tr>\n",
       "  </thead>\n",
       "  <tbody>\n",
       "    <tr>\n",
       "      <th>0</th>\n",
       "      <td>44</td>\n",
       "      <td>teacher</td>\n",
       "      <td>married</td>\n",
       "      <td>basic.4y</td>\n",
       "      <td>yes</td>\n",
       "      <td>no</td>\n",
       "      <td>1</td>\n",
       "      <td>1.4</td>\n",
       "      <td>93.444</td>\n",
       "      <td>-36.1</td>\n",
       "      <td>4.963</td>\n",
       "      <td>5228.1</td>\n",
       "      <td>0</td>\n",
       "    </tr>\n",
       "    <tr>\n",
       "      <th>1</th>\n",
       "      <td>53</td>\n",
       "      <td>technician</td>\n",
       "      <td>married</td>\n",
       "      <td>unknown</td>\n",
       "      <td>no</td>\n",
       "      <td>no</td>\n",
       "      <td>1</td>\n",
       "      <td>-0.1</td>\n",
       "      <td>93.200</td>\n",
       "      <td>-42.0</td>\n",
       "      <td>4.021</td>\n",
       "      <td>5195.8</td>\n",
       "      <td>0</td>\n",
       "    </tr>\n",
       "    <tr>\n",
       "      <th>2</th>\n",
       "      <td>28</td>\n",
       "      <td>management</td>\n",
       "      <td>single</td>\n",
       "      <td>university.degree</td>\n",
       "      <td>yes</td>\n",
       "      <td>no</td>\n",
       "      <td>2</td>\n",
       "      <td>-1.7</td>\n",
       "      <td>94.055</td>\n",
       "      <td>-39.8</td>\n",
       "      <td>0.729</td>\n",
       "      <td>4991.6</td>\n",
       "      <td>1</td>\n",
       "    </tr>\n",
       "    <tr>\n",
       "      <th>3</th>\n",
       "      <td>39</td>\n",
       "      <td>services</td>\n",
       "      <td>married</td>\n",
       "      <td>high.school</td>\n",
       "      <td>no</td>\n",
       "      <td>no</td>\n",
       "      <td>1</td>\n",
       "      <td>-1.8</td>\n",
       "      <td>93.075</td>\n",
       "      <td>-47.1</td>\n",
       "      <td>1.405</td>\n",
       "      <td>5099.1</td>\n",
       "      <td>0</td>\n",
       "    </tr>\n",
       "    <tr>\n",
       "      <th>4</th>\n",
       "      <td>55</td>\n",
       "      <td>retired</td>\n",
       "      <td>married</td>\n",
       "      <td>basic.4y</td>\n",
       "      <td>yes</td>\n",
       "      <td>no</td>\n",
       "      <td>2</td>\n",
       "      <td>-2.9</td>\n",
       "      <td>92.201</td>\n",
       "      <td>-31.4</td>\n",
       "      <td>0.869</td>\n",
       "      <td>5076.2</td>\n",
       "      <td>1</td>\n",
       "    </tr>\n",
       "  </tbody>\n",
       "</table>\n",
       "</div>"
      ],
      "text/plain": [
       "   age         job  marital          education housing loan  poutcome  \\\n",
       "0   44     teacher  married           basic.4y     yes   no         1   \n",
       "1   53  technician  married            unknown      no   no         1   \n",
       "2   28  management   single  university.degree     yes   no         2   \n",
       "3   39    services  married        high.school      no   no         1   \n",
       "4   55     retired  married           basic.4y     yes   no         2   \n",
       "\n",
       "   emp_var_rate  cons_price_idx  cons_conf_idx  euribor3m  nr_employed  \\\n",
       "0           1.4          93.444          -36.1      4.963       5228.1   \n",
       "1          -0.1          93.200          -42.0      4.021       5195.8   \n",
       "2          -1.7          94.055          -39.8      0.729       4991.6   \n",
       "3          -1.8          93.075          -47.1      1.405       5099.1   \n",
       "4          -2.9          92.201          -31.4      0.869       5076.2   \n",
       "\n",
       "   subscribe  \n",
       "0          0  \n",
       "1          0  \n",
       "2          1  \n",
       "3          0  \n",
       "4          1  "
      ]
     },
     "execution_count": 3,
     "metadata": {},
     "output_type": "execute_result"
    }
   ],
   "source": [
    "#melihat kembali dataset yang sudah diubah\n",
    "dataset.head()"
   ]
  },
  {
   "cell_type": "code",
   "execution_count": 4,
   "metadata": {},
   "outputs": [
    {
     "data": {
      "text/plain": [
       "array(['married', 'single', 'divorced', 'unknown'], dtype=object)"
      ]
     },
     "execution_count": 4,
     "metadata": {},
     "output_type": "execute_result"
    }
   ],
   "source": [
    "#melihat kategori yang ada pada kolom 'marital'\n",
    "dataset['marital'].unique()"
   ]
  },
  {
   "cell_type": "code",
   "execution_count": 5,
   "metadata": {},
   "outputs": [],
   "source": [
    "import numpy as np\n",
    "#mengubah \"basic.9y\" \"basic.6y\" dan \"basic.4y\" menjadi katagori basic\n",
    "dataset['education']=np.where(dataset['education'] =='basic.9y', 'Basic', dataset['education'])\n",
    "dataset['education']=np.where(dataset['education'] =='basic.6y', 'Basic', dataset['education'])\n",
    "dataset['education']=np.where(dataset['education'] =='basic.4y', 'Basic', dataset['education'])"
   ]
  },
  {
   "cell_type": "code",
   "execution_count": 6,
   "metadata": {},
   "outputs": [
    {
     "data": {
      "text/plain": [
       "array(['Basic', 'unknown', 'university.degree', 'high.school',\n",
       "       'professional.course', 'illiterate'], dtype=object)"
      ]
     },
     "execution_count": 6,
     "metadata": {},
     "output_type": "execute_result"
    }
   ],
   "source": [
    "#melihat kategori yang ada pada kolom 'education'\n",
    "dataset['education'].unique()"
   ]
  },
  {
   "cell_type": "code",
   "execution_count": 7,
   "metadata": {},
   "outputs": [
    {
     "data": {
      "text/plain": [
       "array(['teacher', 'technician', 'management', 'services', 'retired',\n",
       "       'admin.', 'housemaid', 'unemployed', 'entrepreneur',\n",
       "       'self-employed', 'unknown', 'student'], dtype=object)"
      ]
     },
     "execution_count": 7,
     "metadata": {},
     "output_type": "execute_result"
    }
   ],
   "source": [
    "#melihat katagori yang ada pada kolom 'job'\n",
    "dataset['job'].unique()"
   ]
  },
  {
   "cell_type": "code",
   "execution_count": 8,
   "metadata": {},
   "outputs": [
    {
     "name": "stdout",
     "output_type": "stream",
     "text": [
      "\n",
      " Cek missing value\n",
      "0\n"
     ]
    }
   ],
   "source": [
    "#Cek apakah ada data yang hilang\n",
    "print(\"\\n Cek missing value\")\n",
    "print(dataset.isnull().sum().sum())"
   ]
  },
  {
   "cell_type": "markdown",
   "metadata": {},
   "source": [
    "# Data Exploration "
   ]
  },
  {
   "cell_type": "code",
   "execution_count": 9,
   "metadata": {},
   "outputs": [
    {
     "data": {
      "image/png": "[encoded data removed]",
      "text/plain": [
       "<Figure size 432x288 with 1 Axes>"
      ]
     },
     "metadata": {
      "needs_background": "light"
     },
     "output_type": "display_data"
    },
    {
     "data": {
      "text/plain": [
       "<Figure size 432x288 with 0 Axes>"
      ]
     },
     "metadata": {},
     "output_type": "display_data"
    }
   ],
   "source": [
    "import seaborn as sns\n",
    "import matplotlib.pyplot as plt\n",
    "dataset['subscribe'].value_counts() #menghitung jumlah data pada kolom suscribe\n",
    "sns.countplot(x='subscribe',data=dataset,palette='inferno') #membuat grafik \n",
    "plt.title('subscribe or not',fontsize = 20)\n",
    "plt.show()\n",
    "plt.savefig('count_plot')"
   ]
  },
  {
   "cell_type": "code",
   "execution_count": 10,
   "metadata": {},
   "outputs": [
    {
     "name": "stdout",
     "output_type": "stream",
     "text": [
      "percentage of subscription 11.362557836042235\n",
      "percentage of no subscription is 88.63744216395777\n"
     ]
    }
   ],
   "source": [
    "count_no_sub = len(dataset[dataset['subscribe']==0.0]) #mengetahui jumlah yang bukan subsrciber\n",
    "count_sub = len(dataset[dataset['subscribe']==1.0]) #mengetahui jumlah yang subsriber\n",
    "pct_of_sub = count_sub/(count_no_sub+count_sub) #mengetahui persentasi subscriber\n",
    "print(\"percentage of subscription\", pct_of_sub*100)\n",
    "pct_of_no_sub = count_no_sub/(count_no_sub+count_sub) #mengetahui persentasi yang bukan subscriber\n",
    "print(\"percentage of no subscription is\", pct_of_no_sub*100)"
   ]
  },
  {
   "cell_type": "code",
   "execution_count": 11,
   "metadata": {
    "scrolled": true
   },
   "outputs": [
    {
     "data": {
      "image/png": "[encoded data removed]",
      "text/plain": [
       "<Figure size 432x288 with 1 Axes>"
      ]
     },
     "metadata": {
      "needs_background": "light"
     },
     "output_type": "display_data"
    }
   ],
   "source": [
    "import matplotlib.pyplot as plt\n",
    "#membuat grafik jumlah subscriber berdasarkan pekerjaan nasabah\n",
    "plt.clf()\n",
    "df_job = dataset.groupby(['job'])['subscribe'].sum()\n",
    "df_job.plot(x='job', y='subscribe', kind='bar', title='Graph of subscriber by Job',color='green')\n",
    "plt.xlabel('Job')\n",
    "plt.ylabel('Num_of_Subscriber')\n",
    "plt.tight_layout()\n",
    "plt.show()"
   ]
  },
  {
   "cell_type": "code",
   "execution_count": 10,
   "metadata": {},
   "outputs": [
    {
     "name": "stdout",
     "output_type": "stream",
     "text": [
      "['admin.' 'entrepreneur' 'housemaid' 'management' 'retired'\n",
      " 'self-employed' 'services' 'student' 'teacher' 'technician' 'unemployed'\n",
      " 'unknown']\n",
      "[ 0  1  2  3  4  5  6  7  8  9 10 11]\n",
      " \n",
      "['basic.4y' 'basic.6y' 'basic.9y' 'high.school' 'illiterate'\n",
      " 'professional.course' 'university.degree' 'unknown']\n",
      "[0 1 2 3 4 5 6 7]\n",
      "['divorced' 'married' 'single' 'unknown']\n",
      "[0 1 2 3]\n",
      "['no' 'unknown' 'yes']\n",
      "[0 1 2]\n",
      "['no' 'unknown' 'yes']\n",
      "[0 1 2]\n"
     ]
    }
   ],
   "source": [
    "#mengkonversi kolom dari tipe object menjadi tipe int untuk memudahkan proses regression\n",
    "import numpy as np\n",
    "from sklearn.preprocessing import LabelEncoder\n",
    "# Convert feature/column 'job'\n",
    "LE = LabelEncoder()\n",
    "dataset['job'] = LE.fit_transform(dataset['job'])\n",
    "print(LE.classes_)\n",
    "print(np.sort(dataset['job'].unique()))\n",
    "print(' ')\n",
    "\n",
    "# Convert feature/column 'education'\n",
    "LE = LabelEncoder()\n",
    "dataset['education'] = LE.fit_transform(dataset['education'])\n",
    "print(LE.classes_)\n",
    "print(np.sort(dataset['education'].unique()))\n",
    "\n",
    "# Convert feature/column 'marital'\n",
    "LE = LabelEncoder()\n",
    "dataset['marital'] = LE.fit_transform(dataset['marital'])\n",
    "print(LE.classes_)\n",
    "print(np.sort(dataset['marital'].unique()))\n",
    "\n",
    "# Convert feature/column 'housing'\n",
    "LE = LabelEncoder()\n",
    "dataset['housing'] = LE.fit_transform(dataset['housing'])\n",
    "print(LE.classes_)\n",
    "print(np.sort(dataset['housing'].unique()))\n",
    "\n",
    "# Convert feature/column 'loan'\n",
    "LE = LabelEncoder()\n",
    "dataset['loan'] = LE.fit_transform(dataset['loan'])\n",
    "print(LE.classes_)\n",
    "print(np.sort(dataset['loan'].unique()))\n",
    "\n"
   ]
  },
  {
   "cell_type": "code",
   "execution_count": 12,
   "metadata": {},
   "outputs": [],
   "source": [
    "# Features variable\n",
    "#menggunakan semua kolom kecuali kolom 'subscribe'\n",
    "X = dataset.drop(['subscribe'],axis=1)\n",
    "\n",
    "# Target variable\n",
    "#menggunakan kolom subscribe\n",
    "y = dataset['subscribe']"
   ]
  },
  {
   "cell_type": "markdown",
   "metadata": {},
   "source": [
    "# Menggunakan model Logistic Regression"
   ]
  },
  {
   "cell_type": "code",
   "execution_count": 14,
   "metadata": {},
   "outputs": [],
   "source": [
    "from sklearn.model_selection import train_test_split\n",
    "#membagi train dan text kedalam 80% training dan 20% testing\n",
    "X_train, X_test, y_train, y_test = train_test_split(X, y, test_size=0.2, random_state=0)"
   ]
  },
  {
   "cell_type": "code",
   "execution_count": 15,
   "metadata": {},
   "outputs": [
    {
     "name": "stdout",
     "output_type": "stream",
     "text": [
      "Confusion Matrix:\n",
      " [[5911  100]\n",
      " [ 563  170]]\n",
      "\n",
      "Classification report\n",
      "              precision    recall  f1-score   support\n",
      "\n",
      "           0       0.91      0.98      0.95      6011\n",
      "           1       0.63      0.23      0.34       733\n",
      "\n",
      "    accuracy                           0.90      6744\n",
      "   macro avg       0.77      0.61      0.64      6744\n",
      "weighted avg       0.88      0.90      0.88      6744\n",
      "\n"
     ]
    },
    {
     "name": "stderr",
     "output_type": "stream",
     "text": [
      "C:\\Users\\PC\\anaconda3\\lib\\site-packages\\sklearn\\linear_model\\_logistic.py:762: ConvergenceWarning: lbfgs failed to converge (status=1):\n",
      "STOP: TOTAL NO. of ITERATIONS REACHED LIMIT.\n",
      "\n",
      "Increase the number of iterations (max_iter) or scale the data as shown in:\n",
      "    https://scikit-learn.org/stable/modules/preprocessing.html\n",
      "Please also refer to the documentation for alternative solver options:\n",
      "    https://scikit-learn.org/stable/modules/linear_model.html#logistic-regression\n",
      "  n_iter_i = _check_optimize_result(\n"
     ]
    }
   ],
   "source": [
    "from sklearn.linear_model import LogisticRegression\n",
    "from sklearn.metrics import confusion_matrix, classification_report\n",
    "\n",
    "# Inisiasi model logreg\n",
    "logreg = LogisticRegression()\n",
    "\n",
    "# fit the model with data\n",
    "logreg.fit(X_train, y_train)\n",
    "\n",
    "# Predict model\n",
    "y_pred=logreg.predict(X_test)\n",
    "\n",
    "# Evaluasi model menggunakan confusion matrix\n",
    "cnf_matrix = confusion_matrix(y_test, y_pred)\n",
    "print('Confusion Matrix:\\n', cnf_matrix)\n",
    "\n",
    "# classification report  \n",
    "print('\\nClassification report')  \n",
    "cr = classification_report(y_test, y_pred)  \n",
    "print(cr)"
   ]
  },
  {
   "cell_type": "code",
   "execution_count": 16,
   "metadata": {},
   "outputs": [
    {
     "data": {
      "text/plain": [
       "<Figure size 432x288 with 0 Axes>"
      ]
     },
     "metadata": {},
     "output_type": "display_data"
    },
    {
     "data": {
      "image/png": "[encoded data removed]",
      "text/plain": [
       "<Figure size 432x288 with 2 Axes>"
      ]
     },
     "metadata": {
      "needs_background": "light"
     },
     "output_type": "display_data"
    }
   ],
   "source": [
    "# import required modules\n",
    "import numpy as np\n",
    "import matplotlib.pyplot as plt\n",
    "import seaborn as sns\n",
    "\n",
    "plt.clf()\n",
    "# name of classes\n",
    "class_names = [0, 1]\n",
    "fig, ax = plt.subplots()\n",
    "\n",
    "tick_marks = np.arange(len(class_names))\n",
    "plt.xticks(tick_marks, class_names)\n",
    "plt.yticks(tick_marks, class_names)\n",
    "\n",
    "# create heatmap\n",
    "sns.heatmap(pd.DataFrame(cnf_matrix), annot=True, cmap='YlGnBu', fmt='g')\n",
    "ax.xaxis.set_label_position('top')\n",
    "plt.title('Confusion matrix', y=1.1)\n",
    "plt.ylabel('Actual')\n",
    "plt.xlabel('Predicted')\n",
    "plt.tight_layout()\n",
    "plt.show()"
   ]
  },
  {
   "cell_type": "code",
   "execution_count": 17,
   "metadata": {},
   "outputs": [
    {
     "name": "stdout",
     "output_type": "stream",
     "text": [
      "Accuracy : 0.9016903914590747\n",
      "Precision: 0.9016903914590747\n",
      "Recall : 0.9016903914590747\n"
     ]
    }
   ],
   "source": [
    "from sklearn.metrics import accuracy_score, precision_score, recall_score\n",
    "\n",
    "#Menghitung Accuracy, Precision, dan Recall\n",
    "print('Accuracy :', accuracy_score(y_test, y_pred))\n",
    "print('Precision:', precision_score(y_test, y_pred, average='micro'))\n",
    "print('Recall :', recall_score(y_test, y_pred, average='micro'))"
   ]
  },
  {
   "cell_type": "markdown",
   "metadata": {},
   "source": [
    "# Regression menggunakan model Decision Tree Classifier"
   ]
  },
  {
   "cell_type": "code",
   "execution_count": 18,
   "metadata": {},
   "outputs": [
    {
     "name": "stdout",
     "output_type": "stream",
     "text": [
      "Training Accuracy : 0.9849844282960106\n",
      "Testing Accuracy : 0.8499406880189798\n"
     ]
    }
   ],
   "source": [
    "from sklearn.model_selection import train_test_split\n",
    "from sklearn.tree import DecisionTreeClassifier\n",
    "#membagi train dan text kedalam 80% training dan 20% testing\n",
    "X1_train, X1_test, y1_train, y1_test = train_test_split(X, y, test_size = 0.2, random_state = 0)\n",
    "# Call the classifier\n",
    "decision_tree = DecisionTreeClassifier()\n",
    "# Fit the classifier to the training data\n",
    "y1_pred = decision_tree.fit(X1_train,y1_train)\n",
    "# evaluating the decision_tree performance\n",
    "print('Training Accuracy :', decision_tree.score(X1_train, y1_train))\n",
    "print('Testing Accuracy :', decision_tree.score(X1_test, y1_test))"
   ]
  },
  {
   "cell_type": "code",
   "execution_count": 20,
   "metadata": {},
   "outputs": [
    {
     "data": {
      "image/png": "[encoded data removed]",
      "text/plain": [
       "<Figure size 432x288 with 1 Axes>"
      ]
     },
     "metadata": {
      "needs_background": "light"
     },
     "output_type": "display_data"
    }
   ],
   "source": [
    "from sklearn.metrics import roc_auc_score\n",
    "from sklearn.metrics import roc_curve\n",
    "logit_roc_auc = roc_auc_score(y_test, logreg.predict(X_test))\n",
    "fpr, tpr, thresholds = roc_curve(y_test, logreg.predict_proba(X_test)[:,1])\n",
    "plt.figure()\n",
    "plt.plot(fpr, tpr, label='Logistic Regression (area = %0.2f)' % logit_roc_auc)\n",
    "plt.plot([0, 1], [0, 1],'r--')\n",
    "plt.xlim([0.0, 1.0])\n",
    "plt.ylim([0.0, 1.05])\n",
    "plt.xlabel('False Positive Rate')\n",
    "plt.ylabel('True Positive Rate')\n",
    "plt.title('Receiver operating characteristic')\n",
    "plt.legend(loc=\"lower right\")\n",
    "plt.savefig('Log_ROC')\n",
    "plt.show()"
   ]
  },
  {
   "cell_type": "code",
   "execution_count": null,
   "metadata": {},
   "outputs": [],
   "source": []
  }
 ],
 "metadata": {
  "kernelspec": {
   "display_name": "Python 3",
   "language": "python",
   "name": "python3"
  },
  "language_info": {
   "codemirror_mode": {
    "name": "ipython",
    "version": 3
   },
   "file_extension": ".py",
   "mimetype": "text/x-python",
   "name": "python",
   "nbconvert_exporter": "python",
   "pygments_lexer": "ipython3",
   "version": "3.8.3"
  }
 },
 "nbformat": 4,
 "nbformat_minor": 4
}
